{
  "cells": [
    {
      "cell_type": "code",
      "execution_count": null,
      "metadata": {
        "id": "UR4zuk4t0UfZ"
      },
      "outputs": [],
      "source": [
        "import numpy as np\n",
        "import pandas as pd\n",
        "import matplotlib.pyplot as plt\n",
        "import yfinance as yf\n",
        "from datetime import datetime"
      ]
    },
    {
      "cell_type": "code",
      "execution_count": null,
      "metadata": {
        "id": "HFPSFe5F3Pd0"
      },
      "outputs": [],
      "source": [
        "def validate_date_format(date_string):\n",
        "    \"\"\"\n",
        "    Validates that the date string is in the 'YYYY-MM-DD' format.\n",
        "\n",
        "    :param date_string: The date string to validate.\n",
        "    :type date_string: str\n",
        "\n",
        "    :raises ValueError: If the date string is not in the correct format.\n",
        "    \"\"\"\n",
        "    try:\n",
        "        datetime.strptime(date_string, '%Y-%m-%d')\n",
        "    except ValueError:\n",
        "        raise ValueError(f\"{date_string} is not a valid date format. Use 'YYYY-MM-DD'.\")\n",
        "\n",
        "def validate_stock_symbol(symbol):\n",
        "    \"\"\"\n",
        "    Validates that the given stock symbol exists and meets minimum data requirements in the yfinance database.\n",
        "\n",
        "    :param symbol: The stock symbol to validate.\n",
        "    :type symbol: str\n",
        "\n",
        "    :raises ValueError: If the stock symbol is invalid or does not meet the necessary data requirements.\n",
        "    \"\"\"\n",
        "    stock = yf.Ticker(symbol)\n",
        "    try:\n",
        "        info = stock.info\n",
        "        necessary_keys = ['longName', 'sector', 'fullTimeEmployees']\n",
        "        if not all(key in info for key in necessary_keys):\n",
        "            raise ValueError(f\"{symbol} is an invalid stock symbol or does not have accessible market data.\")\n",
        "    except KeyError:\n",
        "        raise ValueError(f\"{symbol} is an invalid stock symbol or lacks necessary data.\")\n",
        "\n",
        "def validate_positive_integer(value, value_name):\n",
        "    \"\"\"\n",
        "    Validates that the provided value is a positive integer.\n",
        "\n",
        "    :param value: The value to check.\n",
        "    :type value: int\n",
        "    :param value_name: The name of the variable to check.\n",
        "    :type value_name: str\n",
        "\n",
        "    :raises ValueError: If the value is not a positive integer.\n",
        "    \"\"\"\n",
        "    if not (isinstance(value, int) and value > 0):\n",
        "        raise ValueError(f\"{value_name} must be a positive integer.\")\n",
        "\n",
        "def validate_inputs(symbol, num_years):\n",
        "    \"\"\"\n",
        "    Validates the inputs for analyzing the payout ratio.\n",
        "\n",
        "    :param symbol: The stock symbol to validate.\n",
        "    :type symbol: str\n",
        "    :param num_years: The number of years to validate.\n",
        "    :type num_years: int\n",
        "\n",
        "    :raises ValueError: If any validation fails.\n",
        "    \"\"\"\n",
        "\n",
        "    validate_stock_symbol(symbol)\n",
        "    validate_positive_integer(num_years, \"Number of Years\")\n",
        "\n",
        "def validate_dates(start_date, end_date):\n",
        "    \"\"\"\n",
        "    Validate the order and format of the provided start and end dates.\n",
        "\n",
        "    :param start_date: Start date to validate.\n",
        "    :type start_date: str\n",
        "    :param end_date: End date to validate.\n",
        "    :type end_date: str\n",
        "\n",
        "    :raises ValueError: If dates are not in valid order or format.\n",
        "    \"\"\"\n",
        "\n",
        "    start = datetime.strptime(start_date, '%Y-%m-%d')\n",
        "    end = datetime.strptime(end_date, '%Y-%m-%d')\n",
        "    if start >= end:\n",
        "        raise ValueError(f\"Validation Error: Start date {start_date} must be before end date {end_date}.\")\n",
        "\n",
        "\n",
        "def validate_symbols(symbols):\n",
        "    \"\"\"\n",
        "    Validate a list of stock symbols.\n",
        "\n",
        "    :param symbols: List of symbols to validate.\n",
        "    :type symbols: list of str\n",
        "\n",
        "    :raises ValueError: If any symbol in the list is invalid.\n",
        "    \"\"\"\n",
        "    for symbol in symbols:\n",
        "        validate_stock_symbol(symbol)\n",
        "\n",
        "\n"
      ]
    },
    {
      "cell_type": "code",
      "execution_count": null,
      "metadata": {
        "id": "0SUM3U5u4ZF9"
      },
      "outputs": [],
      "source": [
        "def import_portfolio(file_path):\n",
        "    \"\"\"\n",
        "    Imports a portfolio of stocks from a CSV file and converts it into a list of dictionaries.\n",
        "\n",
        "    :param file_path: Path to the CSV file containing the portfolio data.\n",
        "    :type file_path: str\n",
        "    :return: A list of dictionaries, each representing a stock in the portfolio.\n",
        "    :rtype: list of dict\n",
        "\n",
        "    :author: Aman\n",
        "\n",
        "    :raises ValueError: If the file is not a CSV or there is an error reading the file.\n",
        "    \"\"\"\n",
        "    if not file_path.lower().endswith('.csv'):\n",
        "        raise ValueError(\"Error: Only CSV file formats are supported.\")\n",
        "\n",
        "    try:\n",
        "        portfolio_df = pd.read_csv(file_path)\n",
        "        return portfolio_df.to_dict('records')\n",
        "    except Exception as e:\n",
        "        raise Exception(f\"Error reading the portfolio file: {e}\")"
      ]
    },
    {
      "cell_type": "code",
      "execution_count": null,
      "metadata": {
        "id": "1EZ7ozAxzEpq"
      },
      "outputs": [],
      "source": [
        "def export_portfolio_data(portfolio, format='csv'):\n",
        "    \"\"\"\n",
        "    Exports a portfolio of stocks with any attached data in a specified format.\n",
        "\n",
        "    :param portfolio: DataFrame or list containing stock data.\n",
        "    :type portfolio: pandas.DataFrame or list\n",
        "    :param format: The format of the export ('csv' or 'json').\n",
        "    :type format: str\n",
        "    :return: None if exporting to file, or list of dictionaries if 'list' is specified.\n",
        "    :rtype: None or list of dict\n",
        "\n",
        "    :author: Aman\n",
        "\n",
        "    :raises ValueError: If the format is unsupported, or an error occurs in file writing.\n",
        "    \"\"\"\n",
        "    if not isinstance(portfolio, pd.DataFrame):\n",
        "        portfolio_df = pd.DataFrame(portfolio)\n",
        "    else:\n",
        "        portfolio_df = portfolio\n",
        "\n",
        "    result_data = portfolio_df.to_dict(orient='records')\n",
        "    file_name = ''\n",
        "    current_date = datetime.now().strftime(\"%Y-%m-$d\")\n",
        "    if format.lower() == 'csv':\n",
        "        file_name = f'portfolio_data_exported_{current_date}.csv'\n",
        "        portfolio_df.to_csv(file_name, index=False)\n",
        "        print(f'Output File: {file_name}')\n",
        "    elif format.lower() == 'json':\n",
        "        file_name = f'portfolio_data_exported_{current_date}.json'\n",
        "        portfolio_df.to_json(file_name, orient='records')\n",
        "        print(f'Output File: {file_name}')\n",
        "    else:\n",
        "        raise ValueError(\"Unsupported format. Please choose either 'csv', 'json'\")"
      ]
    },
    {
      "cell_type": "code",
      "execution_count": null,
      "metadata": {
        "id": "A1FuIztbysMh"
      },
      "outputs": [],
      "source": [
        "def calculate_tax_impact(dividend_income, tax_rate):\n",
        "    \"\"\"\n",
        "    Calculate the after-tax income from dividend earnings based on the given tax rate.\n",
        "\n",
        "    :param dividend_income: Total dividend income before tax.\n",
        "    :type dividend_income: float\n",
        "    :param tax_rate: Tax rate applied to the dividend income (e.g., 0.15 for 15% tax rate).\n",
        "    :type tax_rate: float\n",
        "    :return: After-tax income from dividends.\n",
        "    :rtype: float\n",
        "\n",
        "    :author: Divyang Abhay Sarangi\n",
        "\n",
        "    :raises ValueError: If dividend_income or tax_rate is negative.\n",
        "    \"\"\"\n",
        "\n",
        "    if dividend_income < 0:\n",
        "        raise ValueError(\"Dividend income cannot be negative\")\n",
        "    if tax_rate < 0:\n",
        "        raise ValueError(\"Tax rate cannot be negative\")\n",
        "\n",
        "    tax_amount = dividend_income * tax_rate\n",
        "    after_tax_income = dividend_income - tax_amount\n",
        "\n",
        "    return after_tax_income"
      ]
    },
    {
      "cell_type": "code",
      "execution_count": null,
      "metadata": {
        "id": "_YQd_a1T5CRo"
      },
      "outputs": [],
      "source": [
        "def fetch_stock_info(symbol):\n",
        "    \"\"\"\n",
        "    Retrieves detailed stock information for a given stock symbol using yfinance.\n",
        "\n",
        "    :param symbol: Stock symbol to retrieve information for.\n",
        "    :type symbol: str\n",
        "    :return: A dictionary containing key stock information or None if the symbol is invalid.\n",
        "    :rtype: dict or None\n",
        "\n",
        "    :author: Aman\n",
        "\n",
        "    :raises ValueError: If the stock symbol is invalid.\n",
        "    \"\"\"\n",
        "    validate_stock_symbol(symbol)\n",
        "\n",
        "    stock = yf.Ticker(symbol)\n",
        "    try:\n",
        "        info = stock.info\n",
        "        desired_info = {\n",
        "            'Name': info.get('shortName', 'N/A'),\n",
        "            'Sector': info.get('sector', 'N/A'),\n",
        "            'Market Cap': info.get('marketCap', 'N/A'),\n",
        "            'Forward PE': info.get('forwardPE', 'N/A'),\n",
        "            'Dividend Yield': info.get('dividendYield', 'N/A') * 100 if info.get('dividendYield') else 'N/A',\n",
        "            'Previous Close': info.get('previousClose', 'N/A'),\n",
        "            '52 Week High': info.get('fiftyTwoWeekHigh', 'N/A'),\n",
        "            '52 Week Low': info.get('fiftyTwoWeekLow', 'N/A'),\n",
        "        }\n",
        "        return desired_info\n",
        "    except Exception as e:\n",
        "        raise Exception(f\"Error retrieving information for {symbol}: {e}\")"
      ]
    },
    {
      "cell_type": "code",
      "execution_count": null,
      "metadata": {
        "id": "fDLH8C6D4ZRt"
      },
      "outputs": [],
      "source": [
        "def fetch_dividend_data(symbols, start_date, end_date):\n",
        "    \"\"\"\n",
        "    Fetches historical dividend data for a list of stock symbols between specific dates using yfinance.\n",
        "\n",
        "    :param symbols: List of stock symbols to retrieve dividends for.\n",
        "    :type symbols: list of str\n",
        "    :param start_date: Start date for the dividend data collection.\n",
        "    :type start_date: str\n",
        "    :param end_date: End date for the dividend data collection.\n",
        "    :type end_date: str\n",
        "    :return: A DataFrame containing the dividends or None if symbols are invalid.\n",
        "    :rtype: pandas.DataFrame or None\n",
        "\n",
        "    :author: Aman\n",
        "\n",
        "    :raises ValueError: If any of the stock symbols are invalid.\n",
        "    \"\"\"\n",
        "    validate_symbols(symbols)\n",
        "\n",
        "    dividends = {}\n",
        "    for symbol in symbols:\n",
        "        stock = yf.Ticker(symbol)\n",
        "        hist = stock.dividends.loc[start_date:end_date]\n",
        "        # print(hist)\n",
        "        # print(\"\\n\\n\\n\")\n",
        "        dividends[symbol] = hist\n",
        "\n",
        "    res = pd.DataFrame(dividends)\n",
        "\n",
        "    # Replace NaN values with 0\n",
        "    res.fillna(0, inplace=True)\n",
        "\n",
        "    return res"
      ]
    },
    {
      "cell_type": "code",
      "execution_count": null,
      "metadata": {
        "id": "-OId5XHRzFJm"
      },
      "outputs": [],
      "source": [
        "def calculate_dividend_growth_rate(symbol, num_years):\n",
        "    \"\"\"\n",
        "    Calculates the average annual growth rate of dividends for a given stock symbol over a specified number of years.\n",
        "\n",
        "    :param symbol: The stock symbol to analyze.\n",
        "    :type symbol: str\n",
        "    :param num_years: The number of years over which to calculate the growth rate.\n",
        "    :type num_years: int\n",
        "\n",
        "    :return: The average annual growth rate of dividends.\n",
        "    :rtype: float\n",
        "\n",
        "    :raises ValueError: If there is not enough data, if there are zero dividends, or if any other issue prevents calculation.\n",
        "\n",
        "    :author: Shloka Brijesh Singh\n",
        "\n",
        "    \"\"\"\n",
        "\n",
        "    # Validate the stock symbol and number of years\n",
        "    validate_stock_symbol(symbol)\n",
        "    validate_positive_integer(num_years, \"Number of Years\")\n",
        "\n",
        "    # Fetch the stock data using the yfinance library\n",
        "    stock = yf.Ticker(symbol)\n",
        "\n",
        "    # Resample the dividend data annually and sum it to get total dividends per year\n",
        "    dividends = stock.dividends.resample('Y').sum()\n",
        "\n",
        "    # Focus on the dividends for the last `num_years` of dividends\n",
        "    dividends = dividends[-num_years:]\n",
        "\n",
        "    # Check if we have enough data points to calculate growth rate (at least 2 years)\n",
        "    if len(dividends) < 2:\n",
        "        raise ValueError(f\"Not enough data to calculate growth rate for {symbol}. At least 2 years of data are required.\")\n",
        "\n",
        "    # Ensure no zero dividends for calculation\n",
        "    if any(dividends == 0):\n",
        "        raise ValueError(\"Cannot calculate growth rate due to zero dividends in the period.\")\n",
        "\n",
        "    # Calculate the yearly dividend growth rates\n",
        "    growth_rates = dividends.pct_change().dropna()\n",
        "\n",
        "    # Compute the average of these growth rates to get the average annual growth rate\n",
        "    average_growth_rate = growth_rates.mean()\n",
        "\n",
        "    if pd.isna(average_growth_rate):\n",
        "        raise ValueError(\"Unable to compute an average growth rate due to insufficient data.\")\n",
        "\n",
        "    return average_growth_rate\n"
      ]
    },
    {
      "cell_type": "code",
      "execution_count": null,
      "metadata": {
        "id": "SzEt9sqM_oIJ"
      },
      "outputs": [],
      "source": [
        "def project_future_dividends(symbol, num_years, growth_rate):\n",
        "    \"\"\"\n",
        "    Projects future dividends for a given stock symbol based on the most recent dividend and a specified growth rate.\n",
        "\n",
        "    :param symbol: The stock symbol for which to project future dividends.\n",
        "    :type symbol: str\n",
        "    :param num_years: The number of years into the future to project the dividends.\n",
        "    :type num_years: int\n",
        "    :param growth_rate: The annual growth rate of the dividends, expressed as a decimal.\n",
        "    :type growth_rate: float\n",
        "\n",
        "    :return: A list of projected dividend amounts for each year, from the first year to num_years.\n",
        "    :rtype: list\n",
        "\n",
        "    :raises ValueError: If the stock symbol is invalid, if num_years is not a positive integer, if growth_rate is not a numeric value, or if there is no recent dividend data.ot have any recent dividend data.\n",
        "    :author: Shloka Brijesh Singh\n",
        "\n",
        "    \"\"\"\n",
        "\n",
        "    validate_stock_symbol(symbol)\n",
        "    validate_positive_integer(num_years, \"Number of Years\")\n",
        "    if not isinstance(growth_rate, (int, float)):\n",
        "        raise ValueError(\"Growth rate must be a numeric value.\")\n",
        "\n",
        "    stock = yf.Ticker(symbol)\n",
        "\n",
        "    if stock.dividends.empty:\n",
        "        raise ValueError(f\"No dividend data available for {symbol}.\")\n",
        "\n",
        "    # Take the most recent dividend paid\n",
        "    last_dividend = stock.dividends[-1]\n",
        "\n",
        "    # Project future dividends based on the most recent dividend and the growth rate\n",
        "    future_dividends = [last_dividend * ((1 + growth_rate) ** i) for i in range(1, num_years + 1)]\n",
        "\n",
        "    return future_dividends\n"
      ]
    },
    {
      "cell_type": "code",
      "execution_count": null,
      "metadata": {
        "id": "FKepdOY_O9Lh"
      },
      "outputs": [],
      "source": [
        "def calculate_portfolio_income(portfolio, start_date, end_date):\n",
        "    \"\"\"\n",
        "    Calculates the total income from dividends for a specified portfolio of stocks within a given date range.\n",
        "    This function iterates through a list of stocks, validates the stock symbol, and calculates the total dividend income\n",
        "    based on the stock's dividend history between the specified start and end dates. It handles validation for the date\n",
        "    format and checks for valid stock symbols using yfinance data.\n",
        "\n",
        "    :param portfolio: A list of dictionaries where each dictionary contains 'stock_code' (str) and 'quantity' (int).\n",
        "    :type portfolio: list\n",
        "    :param start_date: The starting date of the period for which to calculate dividends ('YYYY-MM-DD').\n",
        "    :type start_date: str\n",
        "    :param end_date: The ending date of the period for which to calculate dividends ('YYYY-MM-DD').\n",
        "    :type end_date: str\n",
        "\n",
        "    :return: The total income from dividends over the specified period for the given portfolio.\n",
        "    :rtype: float\n",
        "\n",
        "    :raises ValueError: If either the start_date or end_date are in an invalid format, or if a stock symbol is invalid.\n",
        "    :raises Exception: Catches and logs exceptions related to data retrieval issues or dividend calculation problems.\n",
        "\n",
        "    :author: Shloka Brijesh Singh\n",
        "    \"\"\"\n",
        "    # Assume validate_date_format will raise ValueError if there's a problem\n",
        "    validate_date_format(start_date)\n",
        "    validate_date_format(end_date)\n",
        "\n",
        "    total_income = 0\n",
        "    for stock in portfolio:\n",
        "        symbol = stock['stock_code']\n",
        "        quantity = stock['quantity']\n",
        "\n",
        "        # This will raise an exception if the symbol is invalid\n",
        "        validate_stock_symbol(symbol)\n",
        "\n",
        "        stock_info = yf.Ticker(symbol)\n",
        "        try:\n",
        "            dividends = stock_info.dividends[start_date:end_date]\n",
        "            if dividends.empty:\n",
        "                continue  # Optionally, could handle this differently or log a warning\n",
        "            income = dividends.sum() * quantity\n",
        "            total_income += income\n",
        "        except Exception as e:\n",
        "            # Rather than just logging, you might want to handle this more robustly depending on your application's needs\n",
        "            raise Exception(f\"Error processing dividends for {symbol}: {e}\")\n",
        "\n",
        "    return total_income\n"
      ]
    },
    {
      "cell_type": "code",
      "execution_count": null,
      "metadata": {
        "id": "lHpOO7zd1QEZ"
      },
      "outputs": [],
      "source": [
        "def analyze_payout_ratio(symbol, num_years):\n",
        "    \"\"\"\n",
        "    Analyze the dividend payout ratio over a specified number of years for a given stock symbol.\n",
        "\n",
        "    :param symbol: Stock symbol to analyze.\n",
        "    :type symbol: str\n",
        "    :param num_years: Number of years to consider for the payout ratio analysis.\n",
        "    :type num_years: int\n",
        "    :return: A pandas Series with payout ratios per year or None if data is insufficient or error occurs.\n",
        "    :rtype: pandas.Series or None\n",
        "\n",
        "    :author: Vatsal\n",
        "\n",
        "    :raises ValueError: If there are input validation errors or insufficient data.\n",
        "    \"\"\"\n",
        "\n",
        "    validate_stock_symbol(symbol)\n",
        "    validate_positive_integer(num_years, \"Number of Years\")\n",
        "\n",
        "    stock = yf.Ticker(symbol)\n",
        "    hist = stock.history(period=f\"{num_years}y\")\n",
        "    dividends = hist['Dividends'].resample('Y').sum()\n",
        "\n",
        "    # Attempt to fetch earnings data and align it with the dividend data\n",
        "    try:\n",
        "        # Convert to timezone-naive if necessary\n",
        "        financials = stock.financials.T['Net Income'] if 'Net Income' in stock.financials.T else pd.Series(dtype=float)\n",
        "        financials.index = pd.to_datetime(financials.index).tz_localize(None)\n",
        "        dividends.index = dividends.index.tz_localize(None)\n",
        "\n",
        "        # Align financials data with dividends data\n",
        "        financials = financials.reindex(dividends.index, method='nearest')\n",
        "        shares_annual = stock.info['sharesOutstanding']\n",
        "        eps_annual = financials / shares_annual\n",
        "    except Exception as e:\n",
        "        raise ValueError(f\"Unable to fetch earnings data: {e}\")\n",
        "\n",
        "    # Check for sufficient data\n",
        "    if dividends.empty or eps_annual.empty or eps_annual.isnull().any():\n",
        "        raise ValueError(f\"Insufficient data to calculate payout ratio for {symbol}.\")\n",
        "\n",
        "    # Calculate payout ratio where earnings are non-zero to avoid division by zero\n",
        "    eps_non_zero = eps_annual[eps_annual != 0]\n",
        "    payout_ratios = dividends[eps_non_zero.index] / eps_non_zero\n",
        "\n",
        "    payout_ratios = round(payout_ratios.astype(float), 2)\n",
        "\n",
        "    return payout_ratios"
      ]
    },
    {
      "cell_type": "code",
      "execution_count": null,
      "metadata": {
        "id": "tS4Nx2VBZbg4"
      },
      "outputs": [],
      "source": [
        "def compare_dividend_stocks(symbols, start_date, end_date):\n",
        "    \"\"\"\n",
        "    Compare dividend stocks based on total dividends, average yield, and growth rate between given dates.\n",
        "\n",
        "    :param symbols: List of stock symbols to compare.\n",
        "    :type symbols: list of str\n",
        "    :param start_date: Start date for the dividend data collection.\n",
        "    :type start_date: str\n",
        "    :param end_date: End date for the dividend data collection.\n",
        "    :type end_date: str\n",
        "    :return: A DataFrame containing comparison results or None if input validation fails.\n",
        "    :rtype: pandas.DataFrame or None\n",
        "\n",
        "    :author: Vatsal\n",
        "\n",
        "    :raises ValueError: If input validation fails.\n",
        "    \"\"\"\n",
        "\n",
        "    validate_dates(start_date, end_date)\n",
        "    if not all(isinstance(symbol, str) and symbol.isalpha() for symbol in symbols):\n",
        "        raise ValueError(\"All symbols must be valid stock symbols.\")\n",
        "\n",
        "    results = pd.DataFrame(columns=[\"Symbol\", \"Total Dividends\", \"Average Yield\", \"Growth Rate\"])\n",
        "\n",
        "    for symbol in symbols:\n",
        "        stock = yf.Ticker(symbol)\n",
        "        div_data = stock.dividends.loc[start_date:end_date]\n",
        "        price_data = stock.history(start=start_date, end=end_date)['Close']\n",
        "\n",
        "        # Calculate total dividends\n",
        "        total_dividends = div_data.sum()\n",
        "\n",
        "        # Calculate average yield\n",
        "        if not div_data.empty:\n",
        "            yields = div_data / price_data.reindex(div_data.index) * 100\n",
        "            average_yield = yields.mean()\n",
        "        else:\n",
        "            average_yield = np.nan  # No dividends to calculate yield\n",
        "\n",
        "        # Calculate growth rate\n",
        "        yearly_dividends = div_data.resample('Y').sum()\n",
        "        growth_rate = yearly_dividends.pct_change().mean()\n",
        "\n",
        "        # Create a temporary DataFrame for this symbol's results\n",
        "        temp_df = pd.DataFrame({\n",
        "            \"Symbol\": [symbol],\n",
        "            \"Total Dividends\": [total_dividends],\n",
        "            \"Average Yield\": [average_yield],\n",
        "            \"Growth Rate\": [growth_rate]\n",
        "        })\n",
        "\n",
        "        results = pd.concat([results, temp_df], ignore_index=True)\n",
        "\n",
        "    # Formatting results for output\n",
        "    results['Average Yield'] = results['Average Yield'].apply(lambda x: f\"{x:.2f}%\" if pd.notnull(x) else \"N/A\")\n",
        "    results['Growth Rate'] = results['Growth Rate'].apply(lambda x: f\"{x:.2%}\" if pd.notnull(x) else \"N/A\")\n",
        "\n",
        "    return results\n"
      ]
    },
    {
      "cell_type": "code",
      "execution_count": null,
      "metadata": {
        "id": "cKCR90Nmij7h"
      },
      "outputs": [],
      "source": [
        "def generate_dividend_report(portfolio, start_date, end_date, tax_rate=0.15):\n",
        "    \"\"\"\n",
        "    Generate a report of dividends for a portfolio of stocks, including tax implications, over a specific period.\n",
        "\n",
        "    :param portfolio: List of dictionaries detailing each stock's code and quantity in the portfolio.\n",
        "    :type portfolio: list of dict\n",
        "    :param start_date: Start date for the dividend data collection.\n",
        "    :type start_date: str\n",
        "    :param end_date: End date for the dividend data collection.\n",
        "    :type end_date: str\n",
        "    :param tax_rate: Tax rate applied to dividends, defaults to 15%.\n",
        "    :type tax_rate: float\n",
        "    :return: A DataFrame detailing dividends, growth, tax implications, and after-tax income for each stock, or None if date validation fails.\n",
        "    :rtype: pandas.DataFrame or None\n",
        "\n",
        "    :author: Vatsal\n",
        "\n",
        "    :raises ValueError: If date validation fails, tax rate is out of expected range, or portfolio entries are invalid.\n",
        "    \"\"\"\n",
        "\n",
        "    validate_dates(start_date, end_date)\n",
        "    if not isinstance(tax_rate, (float, int)) or tax_rate < 0 or tax_rate > 1:\n",
        "        raise ValueError(\"Tax rate must be a decimal between 0 and 1.\")\n",
        "\n",
        "\n",
        "    results = pd.DataFrame(columns=['Stock', 'Total Dividends', 'Dividend Growth', 'Tax Rate', 'After-Tax Income'])\n",
        "\n",
        "    for entry in portfolio:\n",
        "        if not isinstance(entry, dict) or 'stock_code' not in entry or 'quantity' not in entry:\n",
        "            raise ValueError(\"Validation Error: Each entry in the portfolio must be a dictionary with 'stock_code' and 'quantity'.\")\n",
        "        if not isinstance(entry['quantity'], int) or entry['quantity'] <= 0:\n",
        "            raise ValueError(\"Validation Error: 'quantity' must be a positive integer.\")\n",
        "\n",
        "        symbol = entry['stock_code']\n",
        "        quantity = entry['quantity']\n",
        "\n",
        "        validate_stock_symbol(symbol)\n",
        "\n",
        "        # Fetch and process dividend data\n",
        "        stock = yf.Ticker(symbol)\n",
        "        div_data = stock.dividends.loc[start_date:end_date]\n",
        "        total_dividends = round(div_data.sum() * quantity, 2)\n",
        "\n",
        "        # Calculate growth rate\n",
        "        yearly_dividends = div_data.resample('Y').sum()\n",
        "        growth_rate = yearly_dividends.pct_change().dropna().mean()\n",
        "\n",
        "        # Calculate tax implications\n",
        "        tax_amount = total_dividends * tax_rate\n",
        "        after_tax_income = total_dividends - tax_amount\n",
        "\n",
        "        # Create a DataFrame for this stock's results\n",
        "        temp_df = pd.DataFrame({\n",
        "            'Stock': [symbol],\n",
        "            'Total Dividends': [total_dividends],\n",
        "            'Dividend Growth': [f\"{growth_rate:.2%}\" if not pd.isna(growth_rate) else 'N/A'],\n",
        "            'Tax Rate': [f\"{tax_rate:.2%}\"],\n",
        "            'After-Tax Income': [round(after_tax_income, 2)]\n",
        "        })\n",
        "\n",
        "        # Append the temporary DataFrame to the results DataFrame using concat\n",
        "        results = pd.concat([results, temp_df], ignore_index=True)\n",
        "\n",
        "    return results"
      ]
    },
    {
      "cell_type": "code",
      "execution_count": null,
      "metadata": {
        "id": "I-2JCyOOGynX"
      },
      "outputs": [],
      "source": [
        "def plot_future_dividends(symbol, num_years, future_dividends):\n",
        "    \"\"\"\n",
        "    Plot the projected future dividends for a given stock symbol over a specified number of years.\n",
        "\n",
        "    :param symbol: Stock symbol for which future dividends are plotted.\n",
        "    :type symbol: str\n",
        "    :param num_years: Number of years for which future dividends are projected.\n",
        "    :type num_years: int\n",
        "    :param future_dividends: List of projected dividend amounts for each year.\n",
        "    :type future_dividends: list of float\n",
        "    :return: None\n",
        "\n",
        "    :author: Divyang Abhay Sarangi\n",
        "\n",
        "    :raises ValueError: If symbol is not a string, num_years is not an integer, or the length of future_dividends\n",
        "                        does not match num_years.\n",
        "    \"\"\"\n",
        "\n",
        "    if not isinstance(symbol, str) or not isinstance(num_years, int) or len(future_dividends) != num_years:\n",
        "        raise ValueError(\"Invalid inputs\")\n",
        "\n",
        "    current_year = datetime.now().year\n",
        "    years = [current_year + i for i in range(1, num_years + 1)]\n",
        "\n",
        "    # Create a figure with higher resolution\n",
        "    plt.figure(figsize=(10, 6), dpi=100)\n",
        "\n",
        "    # Create a line plot\n",
        "    plt.plot(years, future_dividends, color='dodgerblue', marker='o', linestyle='-', linewidth=2, markersize=8)\n",
        "\n",
        "    # Add value annotations on each point\n",
        "    for i, txt in enumerate(future_dividends):\n",
        "        plt.annotate(f'{txt:.4f}', (years[i], future_dividends[i]), textcoords=\"offset points\", xytext=(0,10), ha='center')\n",
        "\n",
        "    # Enhancing the chart with labels and title\n",
        "    plt.title(f'Projected Future Dividends for {symbol} Over {num_years} Years', fontsize=16)\n",
        "    plt.xlabel('Year', fontsize=14)\n",
        "    plt.ylabel('Dividend Amount ($)', fontsize=14)\n",
        "    plt.xticks(years, fontsize=12)  # Ensure every year is marked clearly\n",
        "    plt.yticks(fontsize=12)\n",
        "    plt.grid(True, linestyle='--', alpha=0.6)  # Add grid for better readability of the plot\n",
        "\n",
        "    # Show the plot\n",
        "    plt.tight_layout()  # Adjust layout to make room for the annotations\n",
        "    plt.show()"
      ]
    },
    {
      "cell_type": "code",
      "execution_count": null,
      "metadata": {
        "id": "T3dLlGRZHCzm"
      },
      "outputs": [],
      "source": [
        "def plot_payout_ratios(symbol, num_years):\n",
        "    \"\"\"\n",
        "    Plot the payout ratios for a given stock symbol over a specified number of years.\n",
        "\n",
        "    :param symbol: Stock symbol for which payout ratios are plotted.\n",
        "    :type symbol: str\n",
        "    :param num_years: Number of years for which payout ratios are analyzed.\n",
        "    :type num_years: int\n",
        "    :return: None\n",
        "\n",
        "    :author: Divyang Abhay Sarangi\n",
        "\n",
        "    :raises ValueError: If symbol is not a string or num_years is not a positive integer.\n",
        "    \"\"\"\n",
        "\n",
        "    if not isinstance(symbol, str):\n",
        "        raise ValueError(\"Symbol must be a string.\")\n",
        "    if not isinstance(num_years, int) or num_years <= 0:\n",
        "        raise ValueError(\"Number of years must be a positive integer.\")\n",
        "\n",
        "    payout_ratios = analyze_payout_ratio(symbol, num_years)\n",
        "\n",
        "    if payout_ratios is None:\n",
        "        print(\"Failed to fetch or calculate payout ratios.\")\n",
        "        return\n",
        "\n",
        "    # Plot the payout ratios using a bar chart\n",
        "    plt.figure(figsize=(10, 5))\n",
        "    bars = plt.bar(payout_ratios.index.year, payout_ratios, color='navy')\n",
        "\n",
        "    # Adding value annotations to each bar for precise data reading\n",
        "    for bar in bars:\n",
        "        yval = bar.get_height()\n",
        "        plt.text(bar.get_x() + bar.get_width()/2, yval, f\"{yval:.4f}\", va='bottom', ha='center', fontsize=10)\n",
        "\n",
        "    # Set the chart title and labels\n",
        "    plt.title(f'Payout Ratios for {symbol} Over the Last {num_years} Years', fontsize=16)\n",
        "    plt.xlabel('Year', fontsize=14)\n",
        "    plt.ylabel('Payout Ratio', fontsize=14)\n",
        "    plt.xticks(payout_ratios.index.year)  # Set x-axis labels to each year\n",
        "    plt.grid(True, which='major', linestyle='--', linewidth=0.5, alpha=0.7)  # Lighter grid\n",
        "    plt.tight_layout()  # Adjust layout to make room for the annotations\n",
        "\n",
        "    # Show the plot\n",
        "    plt.show()\n"
      ]
    },
    {
      "cell_type": "code",
      "execution_count": null,
      "metadata": {
        "id": "2qa6PFCEHVjP"
      },
      "outputs": [],
      "source": [
        "def plot_total_dividends(data):\n",
        "    \"\"\"\n",
        "    Plot the total dividends comparison for different companies.\n",
        "\n",
        "    :param data: DataFrame containing 'Symbol' and 'Total Dividends' columns.\n",
        "    :type data: pandas.DataFrame\n",
        "    :return: None\n",
        "\n",
        "    :author: Divyang Abhay Sarangi\n",
        "\n",
        "    :raises ValueError: If data is not a pandas DataFrame or if it does not contain required columns.\n",
        "    \"\"\"\n",
        "\n",
        "    if not isinstance(data, pd.DataFrame):\n",
        "        raise ValueError(\"Input data must be a pandas DataFrame.\")\n",
        "\n",
        "    if 'Symbol' not in data.columns or 'Total Dividends' not in data.columns:\n",
        "        raise ValueError(\"Input data must contain 'Symbol' and 'Total Dividends' columns.\")\n",
        "\n",
        "    plt.figure(figsize=(10, 5))\n",
        "    bars = plt.bar(data['Symbol'], data['Total Dividends'], color='teal')\n",
        "\n",
        "    for bar in bars:\n",
        "        yval = bar.get_height()\n",
        "        plt.text(bar.get_x() + bar.get_width()/2, yval, f\"{yval:.2f}\", va='bottom', ha='center', fontsize=10)\n",
        "\n",
        "    plt.title('Total Dividends Comparison')\n",
        "    plt.xlabel('Company')\n",
        "    plt.ylabel('Total Dividends')\n",
        "    plt.grid(True, which='major', linestyle='--', alpha=0.7)\n",
        "    plt.show()"
      ]
    },
    {
      "cell_type": "code",
      "execution_count": null,
      "metadata": {
        "id": "4eCb8J39J7KA"
      },
      "outputs": [],
      "source": [
        "def plot_average_yield(data):\n",
        "    \"\"\"\n",
        "    Plot the comparison of average yield for different companies.\n",
        "\n",
        "    :param data: DataFrame containing 'Symbol' and 'Average Yield' columns.\n",
        "    :type data: pandas.DataFrame\n",
        "    :return: None\n",
        "\n",
        "    :author: Divyang Abhay Sarangi\n",
        "\n",
        "    :raises ValueError: If data is not a pandas DataFrame or if it does not contain required columns.\n",
        "    \"\"\"\n",
        "\n",
        "    if not isinstance(data, pd.DataFrame):\n",
        "        raise ValueError(\"Input data must be a pandas DataFrame.\")\n",
        "\n",
        "    if 'Symbol' not in data.columns or 'Average Yield' not in data.columns:\n",
        "        raise ValueError(\"Input data must contain 'Symbol' and 'Average Yield' columns.\")\n",
        "\n",
        "    # Ensure 'Average Yield' is in the correct format, converting if necessary\n",
        "    if data['Average Yield'].dtype == object:\n",
        "        data['Average Yield'] = data['Average Yield'].replace('N/A', np.nan).str.rstrip('%').astype(float) / 100\n",
        "\n",
        "    plt.figure(figsize=(10, 5))\n",
        "    bars = plt.bar(data['Symbol'], data['Average Yield'], color='skyblue')\n",
        "\n",
        "    for bar in bars:\n",
        "        yval = bar.get_height()\n",
        "        if pd.notnull(yval):  # Only add text labels to bars with non-NaN heights\n",
        "            plt.text(bar.get_x() + bar.get_width()/2, yval, f\"{yval:.2%}\", va='bottom', ha='center', fontsize=10)\n",
        "\n",
        "    plt.title('Average Yield Comparison')\n",
        "    plt.xlabel('Company')\n",
        "    plt.ylabel('Average Yield')\n",
        "    plt.grid(True, which='major', linestyle='--', alpha=0.7)\n",
        "    plt.show()"
      ]
    },
    {
      "cell_type": "code",
      "execution_count": null,
      "metadata": {
        "id": "cSyLiZj3mhr5"
      },
      "outputs": [],
      "source": [
        "def plot_growth_rate(data):\n",
        "    \"\"\"\n",
        "    Plot the comparison of growth rate for different companies.\n",
        "\n",
        "    :param data: DataFrame containing 'Symbol' and 'Growth Rate' columns.\n",
        "    :type data: pandas.DataFrame\n",
        "    :return: None\n",
        "\n",
        "    :author: Divyang Abhay Sarangi\n",
        "\n",
        "    :raises ValueError: If data is not a pandas DataFrame or if it does not contain required columns.\n",
        "    \"\"\"\n",
        "    if not isinstance(data, pd.DataFrame):\n",
        "        raise ValueError(\"Input data must be a pandas DataFrame.\")\n",
        "\n",
        "    if 'Symbol' not in data.columns or 'Growth Rate' not in data.columns:\n",
        "        raise ValueError(\"Input data must contain 'Symbol' and 'Growth Rate' columns.\")\n",
        "\n",
        "    # Check if 'Growth Rate' needs conversion from percentage strings to floats\n",
        "    if data['Growth Rate'].dtype == object:\n",
        "        data['Growth Rate'] = data['Growth Rate'].replace('N/A', np.nan).str.rstrip('%').astype(float) / 100\n",
        "\n",
        "    plt.figure(figsize=(10, 5))\n",
        "    bars = plt.bar(data['Symbol'], data['Growth Rate'], color='purple')\n",
        "\n",
        "    for bar in bars:\n",
        "        yval = bar.get_height()\n",
        "        # Only add text labels if yval is not NaN\n",
        "        if pd.notnull(yval):\n",
        "            plt.text(bar.get_x() + bar.get_width()/2, yval, f\"{yval:.2%}\", va='bottom', ha='center', fontsize=10)\n",
        "\n",
        "    plt.title('Growth Rate Comparison')\n",
        "    plt.xlabel('Company')\n",
        "    plt.ylabel('Growth Rate')\n",
        "    plt.grid(True, which='major', linestyle='--', alpha=0.7)\n",
        "    plt.show()\n"
      ]
    },
    {
      "cell_type": "markdown",
      "metadata": {
        "id": "jXKeD7LQpZne"
      },
      "source": [
        "## All functionality demonstration code"
      ]
    },
    {
      "cell_type": "code",
      "execution_count": null,
      "metadata": {
        "colab": {
          "base_uri": "https://localhost:8080/"
        },
        "id": "munGWZf-9C4x",
        "outputId": "9345f1d4-bc52-4506-94fe-0865f415e965"
      },
      "outputs": [
        {
          "output_type": "stream",
          "name": "stdout",
          "text": [
            "Testing fetch_stock_info for 'AAPL':\n",
            "Name:\tApple Inc.\n",
            "Sector:\tTechnology\n",
            "Market Cap:\t2817640890368\n",
            "Forward PE:\t25.379835\n",
            "Dividend Yield:\t0.5499999999999999\n",
            "Previous Close:\t182.74\n",
            "52 Week High:\t199.62\n",
            "52 Week Low:\t164.08\n",
            "\n",
            "Testing import_portfolio:\n",
            "Enter portfolio file name (.csv):portfolio_b.csv\n",
            "Retrieved Data:\n",
            "{'stock_code': 'INTC', 'quantity': 5000, 'start_date': '2022-03-11'}\n",
            "{'stock_code': 'AMD', 'quantity': 1200, 'start_date': '2023-01-05'}\n",
            "{'stock_code': 'NVDA', 'quantity': 4500, 'start_date': '2022-04-08'}\n",
            "{'stock_code': 'BABA', 'quantity': 350, 'start_date': '2022-08-20'}\n",
            "{'stock_code': 'SONY', 'quantity': 800, 'start_date': '2021-07-22'}\n"
          ]
        }
      ],
      "source": [
        "# Testing fetch_stock_info with error handling\n",
        "try:\n",
        "    print(\"Testing fetch_stock_info for 'AAPL':\")\n",
        "    stock_info = fetch_stock_info('AAPL')\n",
        "    for info in stock_info:\n",
        "        print(f\"{info}:\\t{stock_info[info]}\")\n",
        "except Exception as e:\n",
        "    print(f\"Error during testing fetch_stock_info: {e}\")\n",
        "\n",
        "# Testing import_portfolio with error handling\n",
        "try:\n",
        "    print(\"\\nTesting import_portfolio:\")\n",
        "    file_name = input(\"Enter portfolio file name (.csv):\")\n",
        "    portfolio = import_portfolio(file_name)\n",
        "    print(\"Retrieved Data:\")\n",
        "    for data in portfolio:\n",
        "        print(data)\n",
        "except Exception as e:\n",
        "    print(f\"Error during testing import_portfolio: {e}\")"
      ]
    },
    {
      "cell_type": "code",
      "execution_count": null,
      "metadata": {
        "colab": {
          "base_uri": "https://localhost:8080/"
        },
        "id": "pTeCtMTfpB5j",
        "outputId": "0852ae20-8d55-466c-8463-2f9c3d53c5b4"
      },
      "outputs": [
        {
          "output_type": "stream",
          "name": "stdout",
          "text": [
            "Testing fetch_dividend_data for all stocks from 2022-01-01 to now:\n",
            "                            INTC  AMD  NVDA  BABA  SONY\n",
            "Date                                                   \n",
            "2021-02-04 00:00:00-05:00  0.348  0.0  0.00   0.0   0.0\n",
            "2021-03-09 00:00:00-05:00  0.000  0.0  0.04   0.0   0.0\n",
            "2021-05-06 00:00:00-04:00  0.348  0.0  0.00   0.0   0.0\n",
            "2021-06-09 00:00:00-04:00  0.000  0.0  0.04   0.0   0.0\n",
            "2021-08-05 00:00:00-04:00  0.348  0.0  0.00   0.0   0.0\n",
            "2021-08-31 00:00:00-04:00  0.000  0.0  0.04   0.0   0.0\n",
            "2021-11-04 00:00:00-04:00  0.348  0.0  0.00   0.0   0.0\n",
            "2021-12-01 00:00:00-05:00  0.000  0.0  0.04   0.0   0.0\n",
            "2022-02-04 00:00:00-05:00  0.365  0.0  0.00   0.0   0.0\n",
            "2022-03-02 00:00:00-05:00  0.000  0.0  0.04   0.0   0.0\n",
            "2022-05-05 00:00:00-04:00  0.365  0.0  0.00   0.0   0.0\n",
            "2022-06-08 00:00:00-04:00  0.000  0.0  0.04   0.0   0.0\n",
            "2022-08-04 00:00:00-04:00  0.365  0.0  0.00   0.0   0.0\n",
            "2022-09-07 00:00:00-04:00  0.000  0.0  0.04   0.0   0.0\n",
            "2022-11-04 00:00:00-04:00  0.365  0.0  0.00   0.0   0.0\n",
            "2022-11-30 00:00:00-05:00  0.000  0.0  0.04   0.0   0.0\n",
            "2023-02-06 00:00:00-05:00  0.365  0.0  0.00   0.0   0.0\n",
            "2023-03-07 00:00:00-05:00  0.000  0.0  0.04   0.0   0.0\n",
            "2023-05-04 00:00:00-04:00  0.125  0.0  0.00   0.0   0.0\n",
            "2023-06-07 00:00:00-04:00  0.000  0.0  0.04   0.0   0.0\n",
            "2023-08-04 00:00:00-04:00  0.125  0.0  0.00   0.0   0.0\n",
            "2023-09-06 00:00:00-04:00  0.000  0.0  0.04   0.0   0.0\n",
            "2023-11-06 00:00:00-05:00  0.125  0.0  0.00   0.0   0.0\n",
            "2023-12-05 00:00:00-05:00  0.000  0.0  0.04   0.0   0.0\n",
            "2023-12-20 00:00:00-05:00  0.000  0.0  0.00   1.0   0.0\n",
            "2024-02-06 00:00:00-05:00  0.125  0.0  0.00   0.0   0.0\n",
            "2024-03-05 00:00:00-05:00  0.000  0.0  0.04   0.0   0.0\n",
            "2024-05-06 00:00:00-04:00  0.125  0.0  0.00   0.0   0.0\n",
            "\n",
            "Exporting portfolio dividends data for all stocks:\n",
            "Output File: portfolio_data_exported_2024-05-$d.json\n"
          ]
        }
      ],
      "source": [
        "# Testing fetch_dividend_data with error handling\n",
        "try:\n",
        "    print(\"Testing fetch_dividend_data for all stocks from 2022-01-01 to now:\")\n",
        "    current_date = datetime.now().strftime(\"%Y-%m-%d\")\n",
        "    stock_symbols = [stock_data[\"stock_code\"] for stock_data in portfolio]\n",
        "    # print(stock_symbols)\n",
        "    dividend_data = fetch_dividend_data(stock_symbols, '2021-01-01', current_date)\n",
        "    print(dividend_data)\n",
        "except Exception as e:\n",
        "    print(f\"Error during testing fetch_dividend_data: {e}\")\n",
        "\n",
        "# Testing export_portfolio_data with error handling\n",
        "try:\n",
        "    print(\"\\nExporting portfolio dividends data for all stocks:\")\n",
        "    export_portfolio_data(portfolio, format='json')\n",
        "except Exception as e:\n",
        "    print(f\"Error during testing export_portfolio_data: {e}\")"
      ]
    },
    {
      "cell_type": "code",
      "execution_count": null,
      "metadata": {
        "colab": {
          "base_uri": "https://localhost:8080/"
        },
        "id": "p_7uYqZxJIam",
        "outputId": "75ad5d7b-437f-4e21-cf47-bcecb65de15c"
      },
      "outputs": [
        {
          "output_type": "stream",
          "name": "stdout",
          "text": [
            "Growth rate for INTC over the last 10 years: -0.08\n",
            "Not enough data to calculate growth rate for INTC. At least 2 years of data are required.\n"
          ]
        }
      ],
      "source": [
        "# Demonstrate dividend_growth_rate function\n",
        "\n",
        "num_years = 10\n",
        "symbol = portfolio[0][\"stock_code\"]\n",
        "\n",
        "try:\n",
        "    growth_rate = calculate_dividend_growth_rate(symbol, num_years)\n",
        "    if growth_rate is not None:\n",
        "        print(f\"Growth rate for {symbol} over the last {num_years} years: {growth_rate:.2f}\")\n",
        "    else:\n",
        "        print(f\"Failed to calculate growth rate for {symbol} over the last {num_years} years.\")\n",
        "except Exception as e:\n",
        "    print(e)\n",
        "\n",
        "\n",
        "num_years = 1\n",
        "try:\n",
        "    growth_rate_short = calculate_dividend_growth_rate(symbol, num_years)\n",
        "    if growth_rate_short is not None:\n",
        "        print(f\"Growth rate for {symbol} over the last {num_years} year: {growth_rate_short}\")\n",
        "    else:\n",
        "        print(f\"Failed to calculate growth rate for {symbol} over the last {num_years} year.\")\n",
        "except Exception as e:\n",
        "    print(e)\n"
      ]
    },
    {
      "cell_type": "code",
      "source": [
        "symbol = \"AAPL\"\n",
        "positive_growth_rate = 0.05  # 5%\n",
        "num_years = 5  # Number of years to project\n",
        "\n",
        "try:\n",
        "    positive_projections = project_future_dividends(symbol, num_years, positive_growth_rate)\n",
        "    if positive_projections:\n",
        "        rounded_positive_projections = [round(proj, 2) for proj in positive_projections]\n",
        "        print(f\"Positive Growth Projections for {symbol}:\", rounded_positive_projections)\n",
        "    else:\n",
        "        print(f\"No positive projections available for {symbol}.\")\n",
        "except Exception as e:\n",
        "    print(f\"Error calculating positive projections for {symbol}: {e}\")"
      ],
      "metadata": {
        "colab": {
          "base_uri": "https://localhost:8080/"
        },
        "id": "MfakTvPdpho_",
        "outputId": "4d74d00d-8ee4-410c-ab3c-9de57dcd6562"
      },
      "execution_count": null,
      "outputs": [
        {
          "output_type": "stream",
          "name": "stdout",
          "text": [
            "Positive Growth Projections for AAPL: [0.25, 0.26, 0.28, 0.29, 0.31]\n"
          ]
        }
      ]
    },
    {
      "cell_type": "code",
      "source": [
        "symbol = \"AAPL\"\n",
        "negative_growth_rate = -0.03  # -3%\n",
        "num_years = 5  # Number of years to project\n",
        "\n",
        "try:\n",
        "    negative_projections = project_future_dividends(symbol, num_years, negative_growth_rate)\n",
        "    if negative_projections:\n",
        "        rounded_negative_projections = [round(proj, 2) for proj in negative_projections]\n",
        "        print(f\"Negative Growth Projections for {symbol}:\", rounded_negative_projections)\n",
        "    else:\n",
        "        print(f\"No negative projections available for {symbol}.\")\n",
        "except Exception as e:\n",
        "    print(f\"Error calculating negative projections for {symbol}: {e}\")"
      ],
      "metadata": {
        "colab": {
          "base_uri": "https://localhost:8080/"
        },
        "id": "wxxI3zA5ps9g",
        "outputId": "7e5a7d7e-fb92-46c6-ecf9-c1bb6ff6388f"
      },
      "execution_count": null,
      "outputs": [
        {
          "output_type": "stream",
          "name": "stdout",
          "text": [
            "Negative Growth Projections for AAPL: [0.23, 0.23, 0.22, 0.21, 0.21]\n"
          ]
        }
      ]
    },
    {
      "cell_type": "code",
      "execution_count": null,
      "metadata": {
        "colab": {
          "base_uri": "https://localhost:8080/"
        },
        "id": "4_KklPUA0Dpp",
        "outputId": "5ab5a04c-8a00-4e27-a1c7-6533e51cb617"
      },
      "outputs": [
        {
          "output_type": "stream",
          "name": "stdout",
          "text": [
            "Total income for Portfolio from 2022-01-01 to 2023-01-01: 8020.0\n"
          ]
        }
      ],
      "source": [
        "# Test to calculate income for Portfolio\n",
        "try:\n",
        "    total_income = calculate_portfolio_income(portfolio, \"2022-01-01\", \"2023-01-01\")\n",
        "    print(f\"Total income for Portfolio from 2022-01-01 to 2023-01-01: {total_income}\")\n",
        "except Exception as e:\n",
        "    print(e)\n"
      ]
    },
    {
      "cell_type": "code",
      "execution_count": null,
      "metadata": {
        "colab": {
          "base_uri": "https://localhost:8080/"
        },
        "id": "mZiGOE3BPGEf",
        "outputId": "bb70a9ad-fecd-459d-9992-8f8f8f1e7fb0"
      },
      "outputs": [
        {
          "output_type": "stream",
          "name": "stdout",
          "text": [
            "Error calculating total income for Portfolio: 20220101 is not a valid date format. Use 'YYYY-MM-DD'.\n"
          ]
        }
      ],
      "source": [
        "# Test with invalid date format\n",
        "try:\n",
        "    total_income_invalid_date = calculate_portfolio_income(portfolio, \"20220101\", \"2023-01-01\")\n",
        "    print(f\"Total income with invalid start date format: {total_income_invalid_date}\")\n",
        "except ValueError as e:\n",
        "    print(f\"Error calculating total income for Portfolio: {e}\")\n"
      ]
    },
    {
      "cell_type": "code",
      "execution_count": null,
      "metadata": {
        "colab": {
          "base_uri": "https://localhost:8080/"
        },
        "id": "6XGK-YxQ0993",
        "outputId": "6bc60923-5cc4-49ff-9467-cfbbf2deb847"
      },
      "outputs": [
        {
          "output_type": "stream",
          "name": "stdout",
          "text": [
            "Total income for a portfolio with expected zero dividends: 0\n"
          ]
        }
      ],
      "source": [
        "# Test by Defining a portfolio with stocks known to have zero or no dividends\n",
        "portfolio_zero_dividend = [\n",
        "    {\"stock_code\": \"BRK-A\", \"quantity\": 1, \"start_date\": \"2022-01-01\"},  # Berkshire Hathaway typically does not pay dividends\n",
        "    {\"stock_code\": \"GOOGL\", \"quantity\": 10, \"start_date\": \"2022-01-01\"}   # Google, also typically without dividends\n",
        "]\n",
        "\n",
        "# Calculate income for a portfolio expected to have zero income\n",
        "try:\n",
        "    total_income_zero_dividends = calculate_portfolio_income(portfolio_zero_dividend, \"2022-01-01\", \"2023-01-01\")\n",
        "    print(f\"Total income for a portfolio with expected zero dividends: {total_income_zero_dividends}\")\n",
        "except Exception as e:\n",
        "    print(e)\n"
      ]
    },
    {
      "cell_type": "code",
      "execution_count": null,
      "metadata": {
        "colab": {
          "base_uri": "https://localhost:8080/"
        },
        "id": "YtWrths3gZC4",
        "outputId": "c95154f7-3958-43ff-ee77-a4c244526205"
      },
      "outputs": [
        {
          "output_type": "stream",
          "name": "stderr",
          "text": [
            "ERROR:yfinance:404 Client Error: Not Found for url: https://query2.finance.yahoo.com/v10/finance/quoteSummary/FAKE123?modules=financialData%2CquoteType%2CdefaultKeyStatistics%2CassetProfile%2CsummaryDetail&corsDomain=finance.yahoo.com&formatted=false&symbol=FAKE123&crumb=.ZdyhQ%2F0uux\n"
          ]
        },
        {
          "output_type": "stream",
          "name": "stdout",
          "text": [
            "FAKE123 is an invalid stock symbol or does not have accessible market data.\n"
          ]
        }
      ],
      "source": [
        "# Define a portfolio with a non-existent stock symbol\n",
        "portfolio_with_fake_stock = [\n",
        "    {\"stock_code\": \"FAKE123\", \"quantity\": 20, \"start_date\": \"2022-01-01\"}\n",
        "]\n",
        "\n",
        "# Calculate income for a portfolio containing a fake stock\n",
        "try:\n",
        "    total_income_fake_stock = calculate_portfolio_income(portfolio_with_fake_stock, \"2022-01-01\", \"2023-01-01\")\n",
        "    print(f\"Total income for Portfolio with a fake stock: {total_income_fake_stock}\")\n",
        "except Exception as e:\n",
        "    print(e)\n"
      ]
    },
    {
      "cell_type": "code",
      "execution_count": null,
      "metadata": {
        "colab": {
          "base_uri": "https://localhost:8080/"
        },
        "id": "4TwOJoK4koay",
        "outputId": "6c39075e-c01e-4988-d6c8-b44dc622def3"
      },
      "outputs": [
        {
          "output_type": "stream",
          "name": "stdout",
          "text": [
            "Total income for Portfolio over a very short period: 0\n"
          ]
        }
      ],
      "source": [
        "# Calculate income for a very short period\n",
        "try:\n",
        "    total_income_short_period = calculate_portfolio_income(portfolio, \"2023-03-15\", \"2023-03-31\")\n",
        "    print(f\"Total income for Portfolio over a very short period: {total_income_short_period}\")\n",
        "except Exception as e:\n",
        "    print(e)"
      ]
    },
    {
      "cell_type": "code",
      "execution_count": null,
      "metadata": {
        "colab": {
          "base_uri": "https://localhost:8080/"
        },
        "id": "W93lWLx-ktAJ",
        "outputId": "0bc69d13-c2cd-43b7-e565-9e74aaecdedc"
      },
      "outputs": [
        {
          "output_type": "stream",
          "name": "stdout",
          "text": [
            "Total income for Portfolio before stocks were listed: 0\n"
          ]
        }
      ],
      "source": [
        "# Calculate income for a period before the stock was listed\n",
        "try:\n",
        "    total_income_before_listing = calculate_portfolio_income(portfolio, \"1920-01-01\", \"1921-12-31\")\n",
        "    # Round the total income to 2 decimal places\n",
        "    rounded_total_income = round(total_income_before_listing, 2)\n",
        "    print(f\"Total income for Portfolio before stocks were listed: {rounded_total_income}\")\n",
        "except Exception as e:\n",
        "    print(f\"Error calculating total income before stocks were listed: {e}\")"
      ]
    },
    {
      "cell_type": "code",
      "execution_count": null,
      "metadata": {
        "colab": {
          "base_uri": "https://localhost:8080/"
        },
        "id": "57pKueclm-No",
        "outputId": "f44003b1-e038-48b8-8783-4527675cc538"
      },
      "outputs": [
        {
          "output_type": "stream",
          "name": "stdout",
          "text": [
            "Payout ratios for AAPL over the last 5 years:\n",
            "Date\n",
            "2019-12-31    0.15\n",
            "2020-12-31    0.22\n",
            "2021-12-31    0.14\n",
            "2022-12-31    0.14\n",
            "2023-12-31    0.15\n",
            "2024-12-31    0.04\n",
            "dtype: float64\n",
            "\n",
            "\n",
            "Dividend stock comparison:\n",
            "  Symbol  Total Dividends Average Yield Growth Rate\n",
            "0   INTC            4.172         0.79%       5.17%\n",
            "1    AMD            0.000           N/A         N/A\n",
            "2   NVDA            0.480         0.03%       0.00%\n",
            "3   BABA            0.000           N/A         N/A\n",
            "4   SONY            0.000           N/A         N/A\n",
            "\n",
            "\n",
            "Dividend report:\n",
            "  Stock  Total Dividends Dividend Growth Tax Rate  After-Tax Income\n",
            "0  INTC          20860.0           5.17%   23.00%           16062.2\n",
            "1   AMD              0.0             N/A   23.00%               0.0\n",
            "2  NVDA           2160.0           0.00%   23.00%            1663.2\n",
            "3  BABA              0.0             N/A   23.00%               0.0\n",
            "4  SONY              0.0             N/A   23.00%               0.0\n"
          ]
        }
      ],
      "source": [
        "# Calculate payout ratios\n",
        "try:\n",
        "    print(f\"Payout ratios for AAPL over the last 5 years:\")\n",
        "    payout_ratios = analyze_payout_ratio('AAPL', 5)\n",
        "    print(payout_ratios)\n",
        "except ValueError as e:\n",
        "    print(f\"Error while analyzing payout ratios: {e}\")\n",
        "\n",
        "try:\n",
        "    symbols_list = [stock_data[\"stock_code\"] for stock_data in portfolio]\n",
        "    print(\"\\n\\nDividend stock comparison:\")\n",
        "    comparison_results = compare_dividend_stocks(symbols_list, '2020-01-01', '2022-12-31')\n",
        "    print(comparison_results)\n",
        "except ValueError as e:\n",
        "    print(f\"Error while comparing dividend stocks: {e}\")\n",
        "\n",
        "try:\n",
        "    print(\"\\n\\nDividend report:\")\n",
        "    dividend_report = generate_dividend_report(portfolio, '2020-01-01', '2022-12-31', 0.23)\n",
        "    print(dividend_report)\n",
        "except ValueError as e:\n",
        "    print(f\"Error while generating dividend report: {e}\")\n"
      ]
    },
    {
      "cell_type": "code",
      "execution_count": null,
      "metadata": {
        "colab": {
          "base_uri": "https://localhost:8080/"
        },
        "id": "DQ06K_47-da1",
        "outputId": "216f1d5c-b7c4-445b-d7eb-db474d3912a1"
      },
      "outputs": [
        {
          "output_type": "stream",
          "name": "stdout",
          "text": [
            "Payout ratios for XYZ (an invalid symbol) over the last 5 years:\n",
            "Error while analyzing payout ratios: XYZ is an invalid stock symbol or does not have accessible market data.\n",
            "\n",
            "Dividend stock comparison with incorrect date format:\n",
            "Error while comparing dividend stocks: time data '01-2020-01' does not match format '%Y-%m-%d'\n"
          ]
        }
      ],
      "source": [
        "# Testing analyze_payout_ratio with an invalid stock symbol\n",
        "\n",
        "try:\n",
        "    print(f\"Payout ratios for XYZ (an invalid symbol) over the last 5 years:\")\n",
        "    payout_ratios = analyze_payout_ratio('XYZ', 5)\n",
        "    print(payout_ratios)\n",
        "except Exception as e:  # Catching a broad exception for demonstration\n",
        "    print(f\"Error while analyzing payout ratios: {e}\")\n",
        "\n",
        "# Testing compare_dividend_stocks with incorrect date formats\n",
        "try:\n",
        "    symbols_list = ['AAPL', 'MSFT', 'NVDA']\n",
        "    print(\"\\nDividend stock comparison with incorrect date format:\")\n",
        "    comparison_results = compare_dividend_stocks(symbols_list, '01-2020-01', '31-2022-12')\n",
        "    print(comparison_results)\n",
        "except Exception as e:  # Catching a broad exception for demonstration\n",
        "    print(f\"Error while comparing dividend stocks: {e}\")"
      ]
    },
    {
      "cell_type": "code",
      "execution_count": null,
      "metadata": {
        "colab": {
          "base_uri": "https://localhost:8080/",
          "height": 607
        },
        "id": "DjXnYB31G9CA",
        "outputId": "b5c68675-4b9c-4bf6-de54-398c90e7e47d"
      },
      "outputs": [
        {
          "output_type": "display_data",
          "data": {
            "text/plain": [
              "<Figure size 1000x600 with 1 Axes>"
            ],
            "image/png": "[encoded data removed]"
          },
          "metadata": {}
        }
      ],
      "source": [
        "try:\n",
        "    stock_symbol = portfolio[0][\"stock_code\"]\n",
        "    num_years = 5\n",
        "    growth_rate = calculate_dividend_growth_rate(stock_symbol, num_years)\n",
        "    future_dividends = project_future_dividends(stock_symbol, num_years, growth_rate)\n",
        "    plot_future_dividends(stock_symbol, num_years, future_dividends)\n",
        "except Exception as e:\n",
        "    print(e)"
      ]
    },
    {
      "cell_type": "code",
      "execution_count": null,
      "metadata": {
        "colab": {
          "base_uri": "https://localhost:8080/"
        },
        "id": "ukSZUANwKnz1",
        "outputId": "31bc6b41-fd76-4176-cff3-9c5227a85a1f"
      },
      "outputs": [
        {
          "output_type": "stream",
          "name": "stdout",
          "text": [
            "Not enough data to calculate growth rate for AMD. At least 2 years of data are required.\n"
          ]
        }
      ],
      "source": [
        "try:\n",
        "    stock_symbol = portfolio[1][\"stock_code\"]\n",
        "    num_years = 5\n",
        "    growth_rate = calculate_dividend_growth_rate(stock_symbol, num_years)\n",
        "    future_dividends = project_future_dividends(stock_symbol, num_years, growth_rate)\n",
        "    plot_future_dividends(stock_symbol, num_years, future_dividends)\n",
        "except Exception as e:\n",
        "    print(e)"
      ]
    },
    {
      "cell_type": "code",
      "execution_count": null,
      "metadata": {
        "colab": {
          "base_uri": "https://localhost:8080/",
          "height": 507
        },
        "id": "kGcje8XIHMgN",
        "outputId": "b5e105ec-b8a8-446e-b2e3-adfca9d5c621"
      },
      "outputs": [
        {
          "output_type": "display_data",
          "data": {
            "text/plain": [
              "<Figure size 1000x500 with 1 Axes>"
            ],
            "image/png": "[encoded data removed]"
          },
          "metadata": {}
        }
      ],
      "source": [
        "# Plot payout ratios\n",
        "\n",
        "try:\n",
        "    stock_symbol = portfolio[0][\"stock_code\"]\n",
        "    plot_payout_ratios(stock_symbol, 5)\n",
        "except Exception as e:\n",
        "    print(e)"
      ]
    },
    {
      "cell_type": "code",
      "execution_count": null,
      "metadata": {
        "colab": {
          "base_uri": "https://localhost:8080/",
          "height": 487
        },
        "id": "oKxaV0bYRVp2",
        "outputId": "56bf54b8-506d-4bf9-b59f-1463067bb4f4"
      },
      "outputs": [
        {
          "output_type": "display_data",
          "data": {
            "text/plain": [
              "<Figure size 1000x500 with 1 Axes>"
            ],
            "image/png": "[encoded data removed]"
          },
          "metadata": {}
        }
      ],
      "source": [
        "# Assuming the result from compare_dividend_stocks is stored in a variable called `results_data`\n",
        "results_data = pd.DataFrame([])\n",
        "try:\n",
        "    stock_symbols = [stock_data[\"stock_code\"] for stock_data in portfolio]\n",
        "    results_data = compare_dividend_stocks(stock_symbols, '2018-01-01', '2022-12-31')\n",
        "\n",
        "    # Plotting total dividends\n",
        "    plot_total_dividends(results_data)\n",
        "except Exception as e:\n",
        "    print(e)"
      ]
    },
    {
      "cell_type": "code",
      "execution_count": null,
      "metadata": {
        "colab": {
          "base_uri": "https://localhost:8080/",
          "height": 487
        },
        "id": "3Owx0NJeMmtu",
        "outputId": "e0bb1adb-4689-480e-a180-9c361d8c8af0"
      },
      "outputs": [
        {
          "output_type": "display_data",
          "data": {
            "text/plain": [
              "<Figure size 1000x500 with 1 Axes>"
            ],
            "image/png": "[encoded data removed]"
          },
          "metadata": {}
        }
      ],
      "source": [
        "# Plotting average yield\n",
        "try:\n",
        "    plot_average_yield(results_data)\n",
        "except Exception as e:\n",
        "    print(e)"
      ]
    },
    {
      "cell_type": "code",
      "execution_count": null,
      "metadata": {
        "colab": {
          "base_uri": "https://localhost:8080/",
          "height": 487
        },
        "id": "eT3vLtmuNMWj",
        "outputId": "9d9427e6-b70f-4e0f-a0dc-43fbb2fb7b49"
      },
      "outputs": [
        {
          "output_type": "display_data",
          "data": {
            "text/plain": [
              "<Figure size 1000x500 with 1 Axes>"
            ],
            "image/png": "[encoded data removed]"
          },
          "metadata": {}
        }
      ],
      "source": [
        "try:\n",
        "    plot_growth_rate(results_data)\n",
        "except Exception as e:\n",
        "    print(e)"
      ]
    }
  ],
  "metadata": {
    "colab": {
      "provenance": []
    },
    "kernelspec": {
      "display_name": "Python 3",
      "name": "python3"
    },
    "language_info": {
      "name": "python"
    }
  },
  "nbformat": 4,
  "nbformat_minor": 0
}